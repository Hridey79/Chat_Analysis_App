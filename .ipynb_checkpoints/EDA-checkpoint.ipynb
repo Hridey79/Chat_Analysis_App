{
 "cells": [
  {
   "cell_type": "code",
   "execution_count": 1,
   "id": "91df5d45-5c28-4e2a-a07d-2194a3504d65",
   "metadata": {},
   "outputs": [],
   "source": [
    "import numpy as np\n",
    "import pandas as pd\n",
    "import re"
   ]
  },
  {
   "cell_type": "code",
   "execution_count": 2,
   "id": "b843b9ec-611a-4171-8e9c-bf4225fea7f5",
   "metadata": {},
   "outputs": [],
   "source": [
    "f=open('./data/WhatsApp Chat with G 8 unofficial.txt','r',encoding='utf-8')"
   ]
  },
  {
   "cell_type": "code",
   "execution_count": 3,
   "id": "3c6e6b25-7a96-4d21-922b-480617cd6cd0",
   "metadata": {},
   "outputs": [],
   "source": [
    "data=f.read()"
   ]
  },
  {
   "cell_type": "code",
   "execution_count": 4,
   "id": "3a5c5a44-535d-4e4a-9084-f5216f19c113",
   "metadata": {},
   "outputs": [],
   "source": [
    "pattern='\\d{1,2}/\\d{1,2}/\\d{2,4},\\s\\d{1,2}:\\d{2}\\s-\\s'"
   ]
  },
  {
   "cell_type": "code",
   "execution_count": 5,
   "id": "38871400-8851-4b71-8c81-5868d48e6e76",
   "metadata": {},
   "outputs": [],
   "source": [
    "messages=re.split(pattern,data)[1:]"
   ]
  },
  {
   "cell_type": "code",
   "execution_count": 6,
   "id": "d810184a-0853-46b0-9caf-6ca871c742a0",
   "metadata": {},
   "outputs": [],
   "source": [
    "dates=re.findall(pattern,data)"
   ]
  },
  {
   "cell_type": "code",
   "execution_count": 7,
   "id": "70f33203-ab04-43ef-9587-17605925b629",
   "metadata": {},
   "outputs": [
    {
     "data": {
      "text/html": [
       "<div>\n",
       "<style scoped>\n",
       "    .dataframe tbody tr th:only-of-type {\n",
       "        vertical-align: middle;\n",
       "    }\n",
       "\n",
       "    .dataframe tbody tr th {\n",
       "        vertical-align: top;\n",
       "    }\n",
       "\n",
       "    .dataframe thead th {\n",
       "        text-align: right;\n",
       "    }\n",
       "</style>\n",
       "<table border=\"1\" class=\"dataframe\">\n",
       "  <thead>\n",
       "    <tr style=\"text-align: right;\">\n",
       "      <th></th>\n",
       "      <th>user_messages</th>\n",
       "      <th>message_date</th>\n",
       "    </tr>\n",
       "  </thead>\n",
       "  <tbody>\n",
       "    <tr>\n",
       "      <th>0</th>\n",
       "      <td>Messages and calls are end-to-end encrypted. N...</td>\n",
       "      <td>2/2/22, 15:37 -</td>\n",
       "    </tr>\n",
       "    <tr>\n",
       "      <th>1</th>\n",
       "      <td>+91 94723 00471 created group \"G-8 Unofficial\"\\n</td>\n",
       "      <td>2/2/22, 15:33 -</td>\n",
       "    </tr>\n",
       "    <tr>\n",
       "      <th>2</th>\n",
       "      <td>You joined using this group's invite link\\n</td>\n",
       "      <td>2/2/22, 15:37 -</td>\n",
       "    </tr>\n",
       "    <tr>\n",
       "      <th>3</th>\n",
       "      <td>+91 95186 29772 joined using this group's invi...</td>\n",
       "      <td>2/2/22, 15:42 -</td>\n",
       "    </tr>\n",
       "    <tr>\n",
       "      <th>4</th>\n",
       "      <td>Aditya Sharma joined using this group's invite...</td>\n",
       "      <td>2/2/22, 15:42 -</td>\n",
       "    </tr>\n",
       "  </tbody>\n",
       "</table>\n",
       "</div>"
      ],
      "text/plain": [
       "                                       user_messages      message_date\n",
       "0  Messages and calls are end-to-end encrypted. N...  2/2/22, 15:37 - \n",
       "1   +91 94723 00471 created group \"G-8 Unofficial\"\\n  2/2/22, 15:33 - \n",
       "2        You joined using this group's invite link\\n  2/2/22, 15:37 - \n",
       "3  +91 95186 29772 joined using this group's invi...  2/2/22, 15:42 - \n",
       "4  Aditya Sharma joined using this group's invite...  2/2/22, 15:42 - "
      ]
     },
     "execution_count": 7,
     "metadata": {},
     "output_type": "execute_result"
    }
   ],
   "source": [
    "df=pd.DataFrame({'user_messages': messages,'message_date': dates})\n",
    "df.head()"
   ]
  },
  {
   "cell_type": "code",
   "execution_count": 8,
   "id": "58e3f067-367c-4bb1-a40e-e8444c1fd407",
   "metadata": {},
   "outputs": [],
   "source": [
    "def datetime_conv(x):\n",
    "    x=x.split(\",\")\n",
    "    date=x[0]\n",
    "    time=x[1].strip()\n",
    "    time=time.split(' ')[0]\n",
    "    return date,time\n",
    "        "
   ]
  },
  {
   "cell_type": "code",
   "execution_count": 9,
   "id": "72d4331c-c750-4044-803c-c8a3d2d4f349",
   "metadata": {},
   "outputs": [],
   "source": [
    "date=[]\n",
    "time=[]\n",
    "arr=df['message_date'].apply(lambda x:datetime_conv(x))\n",
    "for i in arr:\n",
    "    date.append(i[0])\n",
    "    time.append(i[1])"
   ]
  },
  {
   "cell_type": "code",
   "execution_count": 10,
   "id": "b6f931c5-0613-4138-ac4e-9a52e760e2e0",
   "metadata": {},
   "outputs": [],
   "source": [
    "df['date']=date\n",
    "df['time']=time"
   ]
  },
  {
   "cell_type": "code",
   "execution_count": 11,
   "id": "1929ae4d-0556-41ea-ab98-9270243e9134",
   "metadata": {},
   "outputs": [],
   "source": [
    "df.drop('message_date',axis=1,inplace=True)"
   ]
  },
  {
   "cell_type": "code",
   "execution_count": 12,
   "id": "3053bd50-900b-4968-9ca5-8d246b1688f3",
   "metadata": {},
   "outputs": [],
   "source": [
    "# for x in df['message_date']:\n",
    "#     x=x.split(\",\")\n",
    "#     date=x[0]\n",
    "#     time=x[1].strip()\n",
    "#     time=time.split(' ')[0]\n",
    "#     print(y)"
   ]
  },
  {
   "cell_type": "code",
   "execution_count": 13,
   "id": "c1cc2e5d-12c7-4392-8d47-92d38a1536fb",
   "metadata": {},
   "outputs": [],
   "source": [
    "# df['message_date']=pd.to_datetime(df['message_date'],format='%d/%m/%Y, %H:%M - ')"
   ]
  },
  {
   "cell_type": "code",
   "execution_count": 14,
   "id": "ddb06859-4548-4686-9ecb-6f48ed4c6ca9",
   "metadata": {},
   "outputs": [
    {
     "data": {
      "text/html": [
       "<div>\n",
       "<style scoped>\n",
       "    .dataframe tbody tr th:only-of-type {\n",
       "        vertical-align: middle;\n",
       "    }\n",
       "\n",
       "    .dataframe tbody tr th {\n",
       "        vertical-align: top;\n",
       "    }\n",
       "\n",
       "    .dataframe thead th {\n",
       "        text-align: right;\n",
       "    }\n",
       "</style>\n",
       "<table border=\"1\" class=\"dataframe\">\n",
       "  <thead>\n",
       "    <tr style=\"text-align: right;\">\n",
       "      <th></th>\n",
       "      <th>user_messages</th>\n",
       "      <th>date</th>\n",
       "      <th>time</th>\n",
       "    </tr>\n",
       "  </thead>\n",
       "  <tbody>\n",
       "    <tr>\n",
       "      <th>0</th>\n",
       "      <td>Messages and calls are end-to-end encrypted. N...</td>\n",
       "      <td>2/2/22</td>\n",
       "      <td>15:37</td>\n",
       "    </tr>\n",
       "    <tr>\n",
       "      <th>1</th>\n",
       "      <td>+91 94723 00471 created group \"G-8 Unofficial\"\\n</td>\n",
       "      <td>2/2/22</td>\n",
       "      <td>15:33</td>\n",
       "    </tr>\n",
       "    <tr>\n",
       "      <th>2</th>\n",
       "      <td>You joined using this group's invite link\\n</td>\n",
       "      <td>2/2/22</td>\n",
       "      <td>15:37</td>\n",
       "    </tr>\n",
       "    <tr>\n",
       "      <th>3</th>\n",
       "      <td>+91 95186 29772 joined using this group's invi...</td>\n",
       "      <td>2/2/22</td>\n",
       "      <td>15:42</td>\n",
       "    </tr>\n",
       "    <tr>\n",
       "      <th>4</th>\n",
       "      <td>Aditya Sharma joined using this group's invite...</td>\n",
       "      <td>2/2/22</td>\n",
       "      <td>15:42</td>\n",
       "    </tr>\n",
       "    <tr>\n",
       "      <th>...</th>\n",
       "      <td>...</td>\n",
       "      <td>...</td>\n",
       "      <td>...</td>\n",
       "    </tr>\n",
       "    <tr>\n",
       "      <th>6670</th>\n",
       "      <td>+91 94682 93921: &lt;Media omitted&gt;\\n</td>\n",
       "      <td>8/4/22</td>\n",
       "      <td>10:47</td>\n",
       "    </tr>\n",
       "    <tr>\n",
       "      <th>6671</th>\n",
       "      <td>Dhairya: Kisi k mcp lab m A+ ya O aaya?\\n</td>\n",
       "      <td>8/4/22</td>\n",
       "      <td>12:59</td>\n",
       "    </tr>\n",
       "    <tr>\n",
       "      <th>6672</th>\n",
       "      <td>+91 98153 46852: @919646370683\\n</td>\n",
       "      <td>8/4/22</td>\n",
       "      <td>13:01</td>\n",
       "    </tr>\n",
       "    <tr>\n",
       "      <th>6673</th>\n",
       "      <td>+91 96463 70683: &lt;Media omitted&gt;\\n</td>\n",
       "      <td>8/4/22</td>\n",
       "      <td>13:01</td>\n",
       "    </tr>\n",
       "    <tr>\n",
       "      <th>6674</th>\n",
       "      <td>+91 6283 410 516: Due to such overwhelming  re...</td>\n",
       "      <td>8/4/22</td>\n",
       "      <td>21:34</td>\n",
       "    </tr>\n",
       "  </tbody>\n",
       "</table>\n",
       "<p>6675 rows × 3 columns</p>\n",
       "</div>"
      ],
      "text/plain": [
       "                                          user_messages    date   time\n",
       "0     Messages and calls are end-to-end encrypted. N...  2/2/22  15:37\n",
       "1      +91 94723 00471 created group \"G-8 Unofficial\"\\n  2/2/22  15:33\n",
       "2           You joined using this group's invite link\\n  2/2/22  15:37\n",
       "3     +91 95186 29772 joined using this group's invi...  2/2/22  15:42\n",
       "4     Aditya Sharma joined using this group's invite...  2/2/22  15:42\n",
       "...                                                 ...     ...    ...\n",
       "6670                 +91 94682 93921: <Media omitted>\\n  8/4/22  10:47\n",
       "6671          Dhairya: Kisi k mcp lab m A+ ya O aaya?\\n  8/4/22  12:59\n",
       "6672                   +91 98153 46852: @919646370683\\n  8/4/22  13:01\n",
       "6673                 +91 96463 70683: <Media omitted>\\n  8/4/22  13:01\n",
       "6674  +91 6283 410 516: Due to such overwhelming  re...  8/4/22  21:34\n",
       "\n",
       "[6675 rows x 3 columns]"
      ]
     },
     "execution_count": 14,
     "metadata": {},
     "output_type": "execute_result"
    }
   ],
   "source": [
    "df"
   ]
  },
  {
   "cell_type": "code",
   "execution_count": 15,
   "id": "d9f7e71c-442d-4ed0-b147-a154194f9bb6",
   "metadata": {},
   "outputs": [],
   "source": [
    "users=[]\n",
    "messages=[]\n",
    "\n",
    "for x in df['user_messages']:\n",
    "    entry=re.split('([\\w\\W]+?):\\s',x)\n",
    "    if entry[1:]:\n",
    "        users.append(entry[1])\n",
    "        messages.append(entry[2])\n",
    "    else:\n",
    "        users.append('group_notification')\n",
    "        messages.append(entry[0])"
   ]
  },
  {
   "cell_type": "code",
   "execution_count": 16,
   "id": "96e6653b-622e-4f0d-87ae-431dea9623f2",
   "metadata": {},
   "outputs": [],
   "source": [
    "df['user']=users\n",
    "df['message']=messages\n",
    "df.drop('user_messages',axis=1,inplace=True)"
   ]
  },
  {
   "cell_type": "code",
   "execution_count": 17,
   "id": "eba2bcbc-c98f-4076-bb89-651ed5488401",
   "metadata": {},
   "outputs": [],
   "source": [
    "day=[]\n",
    "month=[]\n",
    "year=[]\n",
    "for x in df[\"date\"]:\n",
    "    x=x.split('/')\n",
    "    day.append(x[0])\n",
    "    month.append(x[1])\n",
    "    year.append(x[2])"
   ]
  },
  {
   "cell_type": "code",
   "execution_count": 18,
   "id": "ad19f67a-06bc-436d-91c6-58dc6421b8ec",
   "metadata": {},
   "outputs": [],
   "source": [
    "df['day']=day\n",
    "df['month']=month\n",
    "df['year']=year"
   ]
  },
  {
   "cell_type": "code",
   "execution_count": 19,
   "id": "679a7b00-0cba-43c2-956c-cb24ce159143",
   "metadata": {},
   "outputs": [],
   "source": [
    "months={'1':'January',\n",
    "        \"2\":'February',\n",
    "        \"3\":'March',\n",
    "        \"4\":\"April\",\n",
    "        \"5\":\"May\",\n",
    "        \"6\":\"June\",\n",
    "        \"7\":\"July\",\n",
    "        \"8\":'August',\n",
    "        \"9\":\"September\",\n",
    "        \"10\":'October',\n",
    "        \"11\":\"November\",\n",
    "        \"12\":\"December\"}"
   ]
  },
  {
   "cell_type": "code",
   "execution_count": 20,
   "id": "2f02221c-4fa1-440c-a579-deb69c459945",
   "metadata": {},
   "outputs": [],
   "source": [
    "df.replace({\"month\":months},inplace=True)"
   ]
  },
  {
   "cell_type": "code",
   "execution_count": 21,
   "id": "7d058ce5-82fd-4f31-ad5e-5331f3ad6bf1",
   "metadata": {},
   "outputs": [],
   "source": [
    "hour=[]\n",
    "minute=[]\n",
    "for x in df[\"time\"]:\n",
    "    x=x.split(\":\")\n",
    "    hour.append(x[0])\n",
    "    minute.append(x[1])"
   ]
  },
  {
   "cell_type": "code",
   "execution_count": 22,
   "id": "9b3a3485-6cda-4ccf-9d13-6fc4b858ba92",
   "metadata": {},
   "outputs": [],
   "source": [
    "df[\"hour\"]=hour\n",
    "df['minute']=minute\n",
    "df.drop({'date','time'},axis=1,inplace=True)"
   ]
  },
  {
   "cell_type": "code",
   "execution_count": 23,
   "id": "312f55e4-bca9-4271-addd-0cefae4212f1",
   "metadata": {},
   "outputs": [
    {
     "data": {
      "text/html": [
       "<div>\n",
       "<style scoped>\n",
       "    .dataframe tbody tr th:only-of-type {\n",
       "        vertical-align: middle;\n",
       "    }\n",
       "\n",
       "    .dataframe tbody tr th {\n",
       "        vertical-align: top;\n",
       "    }\n",
       "\n",
       "    .dataframe thead th {\n",
       "        text-align: right;\n",
       "    }\n",
       "</style>\n",
       "<table border=\"1\" class=\"dataframe\">\n",
       "  <thead>\n",
       "    <tr style=\"text-align: right;\">\n",
       "      <th></th>\n",
       "      <th>user</th>\n",
       "      <th>message</th>\n",
       "      <th>day</th>\n",
       "      <th>month</th>\n",
       "      <th>year</th>\n",
       "      <th>hour</th>\n",
       "      <th>minute</th>\n",
       "    </tr>\n",
       "  </thead>\n",
       "  <tbody>\n",
       "    <tr>\n",
       "      <th>0</th>\n",
       "      <td>group_notification</td>\n",
       "      <td>Messages and calls are end-to-end encrypted. N...</td>\n",
       "      <td>2</td>\n",
       "      <td>February</td>\n",
       "      <td>22</td>\n",
       "      <td>15</td>\n",
       "      <td>37</td>\n",
       "    </tr>\n",
       "    <tr>\n",
       "      <th>1</th>\n",
       "      <td>group_notification</td>\n",
       "      <td>+91 94723 00471 created group \"G-8 Unofficial\"\\n</td>\n",
       "      <td>2</td>\n",
       "      <td>February</td>\n",
       "      <td>22</td>\n",
       "      <td>15</td>\n",
       "      <td>33</td>\n",
       "    </tr>\n",
       "    <tr>\n",
       "      <th>2</th>\n",
       "      <td>group_notification</td>\n",
       "      <td>You joined using this group's invite link\\n</td>\n",
       "      <td>2</td>\n",
       "      <td>February</td>\n",
       "      <td>22</td>\n",
       "      <td>15</td>\n",
       "      <td>37</td>\n",
       "    </tr>\n",
       "    <tr>\n",
       "      <th>3</th>\n",
       "      <td>group_notification</td>\n",
       "      <td>+91 95186 29772 joined using this group's invi...</td>\n",
       "      <td>2</td>\n",
       "      <td>February</td>\n",
       "      <td>22</td>\n",
       "      <td>15</td>\n",
       "      <td>42</td>\n",
       "    </tr>\n",
       "    <tr>\n",
       "      <th>4</th>\n",
       "      <td>group_notification</td>\n",
       "      <td>Aditya Sharma joined using this group's invite...</td>\n",
       "      <td>2</td>\n",
       "      <td>February</td>\n",
       "      <td>22</td>\n",
       "      <td>15</td>\n",
       "      <td>42</td>\n",
       "    </tr>\n",
       "    <tr>\n",
       "      <th>...</th>\n",
       "      <td>...</td>\n",
       "      <td>...</td>\n",
       "      <td>...</td>\n",
       "      <td>...</td>\n",
       "      <td>...</td>\n",
       "      <td>...</td>\n",
       "      <td>...</td>\n",
       "    </tr>\n",
       "    <tr>\n",
       "      <th>6670</th>\n",
       "      <td>+91 94682 93921</td>\n",
       "      <td>&lt;Media omitted&gt;\\n</td>\n",
       "      <td>8</td>\n",
       "      <td>April</td>\n",
       "      <td>22</td>\n",
       "      <td>10</td>\n",
       "      <td>47</td>\n",
       "    </tr>\n",
       "    <tr>\n",
       "      <th>6671</th>\n",
       "      <td>Dhairya</td>\n",
       "      <td>Kisi k mcp lab m A+ ya O aaya?\\n</td>\n",
       "      <td>8</td>\n",
       "      <td>April</td>\n",
       "      <td>22</td>\n",
       "      <td>12</td>\n",
       "      <td>59</td>\n",
       "    </tr>\n",
       "    <tr>\n",
       "      <th>6672</th>\n",
       "      <td>+91 98153 46852</td>\n",
       "      <td>@919646370683\\n</td>\n",
       "      <td>8</td>\n",
       "      <td>April</td>\n",
       "      <td>22</td>\n",
       "      <td>13</td>\n",
       "      <td>01</td>\n",
       "    </tr>\n",
       "    <tr>\n",
       "      <th>6673</th>\n",
       "      <td>+91 96463 70683</td>\n",
       "      <td>&lt;Media omitted&gt;\\n</td>\n",
       "      <td>8</td>\n",
       "      <td>April</td>\n",
       "      <td>22</td>\n",
       "      <td>13</td>\n",
       "      <td>01</td>\n",
       "    </tr>\n",
       "    <tr>\n",
       "      <th>6674</th>\n",
       "      <td>+91 6283 410 516</td>\n",
       "      <td>Due to such overwhelming  response and many re...</td>\n",
       "      <td>8</td>\n",
       "      <td>April</td>\n",
       "      <td>22</td>\n",
       "      <td>21</td>\n",
       "      <td>34</td>\n",
       "    </tr>\n",
       "  </tbody>\n",
       "</table>\n",
       "<p>6675 rows × 7 columns</p>\n",
       "</div>"
      ],
      "text/plain": [
       "                    user                                            message  \\\n",
       "0     group_notification  Messages and calls are end-to-end encrypted. N...   \n",
       "1     group_notification   +91 94723 00471 created group \"G-8 Unofficial\"\\n   \n",
       "2     group_notification        You joined using this group's invite link\\n   \n",
       "3     group_notification  +91 95186 29772 joined using this group's invi...   \n",
       "4     group_notification  Aditya Sharma joined using this group's invite...   \n",
       "...                  ...                                                ...   \n",
       "6670     +91 94682 93921                                  <Media omitted>\\n   \n",
       "6671             Dhairya                   Kisi k mcp lab m A+ ya O aaya?\\n   \n",
       "6672     +91 98153 46852                                    @919646370683\\n   \n",
       "6673     +91 96463 70683                                  <Media omitted>\\n   \n",
       "6674    +91 6283 410 516  Due to such overwhelming  response and many re...   \n",
       "\n",
       "     day     month year hour minute  \n",
       "0      2  February   22   15     37  \n",
       "1      2  February   22   15     33  \n",
       "2      2  February   22   15     37  \n",
       "3      2  February   22   15     42  \n",
       "4      2  February   22   15     42  \n",
       "...   ..       ...  ...  ...    ...  \n",
       "6670   8     April   22   10     47  \n",
       "6671   8     April   22   12     59  \n",
       "6672   8     April   22   13     01  \n",
       "6673   8     April   22   13     01  \n",
       "6674   8     April   22   21     34  \n",
       "\n",
       "[6675 rows x 7 columns]"
      ]
     },
     "execution_count": 23,
     "metadata": {},
     "output_type": "execute_result"
    }
   ],
   "source": [
    "df"
   ]
  },
  {
   "cell_type": "code",
   "execution_count": 24,
   "id": "d033580f-2e55-4f5f-9533-4cdd4c426aa0",
   "metadata": {},
   "outputs": [
    {
     "data": {
      "text/plain": [
       "array(['group_notification', 'Chidi🐦', '+91 94723 00471',\n",
       "       '+91 74949 14396', 'Aditya Sharma', '+91 6239 519 267',\n",
       "       'Devan Chitkara', '+91 95186 29772', '+91 70156 53279',\n",
       "       '+91 98153 46852', '+91 76963 39994', '+91 95417 58550',\n",
       "       '+91 99147 08917', '+91 93506 34305', '+91 88378 56982', 'Dhairya',\n",
       "       '+91 6283 410 516', '+91 96463 70683', '+91 95920 69898',\n",
       "       'Chirag Jain', '+91 74190 42586', '+91 90415 90249',\n",
       "       '+91 70825 23418', '+91 98770 76176', '+91 86075 59913',\n",
       "       'Jinendra', '+91 70822 38175', '+91 93547 36582', 'Jatin Gautum',\n",
       "       '+91 97797 65241', '+91 73408 34093', '+91 94682 93921',\n",
       "       '+91 85708 81917', 'Mittali Raheja', '+91 75900 54704', 'Dinesh',\n",
       "       '+91 85710 80014', 'Gursimran', '+91 81960 62380', 'Harveen Kaur',\n",
       "       '+91 89011 08299', '+91 98179 06505', '+91 70426 45690',\n",
       "       '+91 6239 458 607', '+91 78074 45646', 'Harsimar',\n",
       "       '+91 81686 23036', '+91 75082 59305', '+91 82797 54882',\n",
       "       'Chirag Kapoor', '+91 90173 44449', 'Rancho', '+91 72060 39063',\n",
       "       '+91 86848 67960', '+91 98050 04300', 'ISHU', '+91 90509 77799',\n",
       "       '+91 78766 95045', '+91 76961 65265', '+91 6284 112 872',\n",
       "       '+91 74559 67720', '+91 78371 93912', '+91 81689 31494',\n",
       "       'Gursimar', '+91 79886 68580', '+91 70152 78294', 'Hardik Arora',\n",
       "       '+91 90680 04444', 'Hridey', 'Chirag Gupta', '+91 80541 84010',\n",
       "       '+91 94642 97942', '+91 98726 29802', '+91 78888 96664'],\n",
       "      dtype=object)"
      ]
     },
     "execution_count": 24,
     "metadata": {},
     "output_type": "execute_result"
    }
   ],
   "source": [
    "df['user'].unique()"
   ]
  },
  {
   "cell_type": "code",
   "execution_count": 25,
   "id": "7a733824-7583-4d41-b094-a84691d38adb",
   "metadata": {},
   "outputs": [
    {
     "data": {
      "text/html": [
       "<div>\n",
       "<style scoped>\n",
       "    .dataframe tbody tr th:only-of-type {\n",
       "        vertical-align: middle;\n",
       "    }\n",
       "\n",
       "    .dataframe tbody tr th {\n",
       "        vertical-align: top;\n",
       "    }\n",
       "\n",
       "    .dataframe thead th {\n",
       "        text-align: right;\n",
       "    }\n",
       "</style>\n",
       "<table border=\"1\" class=\"dataframe\">\n",
       "  <thead>\n",
       "    <tr style=\"text-align: right;\">\n",
       "      <th></th>\n",
       "      <th>user</th>\n",
       "      <th>message</th>\n",
       "      <th>day</th>\n",
       "      <th>month</th>\n",
       "      <th>year</th>\n",
       "      <th>hour</th>\n",
       "      <th>minute</th>\n",
       "    </tr>\n",
       "  </thead>\n",
       "  <tbody>\n",
       "    <tr>\n",
       "      <th>36</th>\n",
       "      <td>Chidi🐦</td>\n",
       "      <td>&lt;Media omitted&gt;\\n</td>\n",
       "      <td>2</td>\n",
       "      <td>February</td>\n",
       "      <td>22</td>\n",
       "      <td>17</td>\n",
       "      <td>31</td>\n",
       "    </tr>\n",
       "    <tr>\n",
       "      <th>41</th>\n",
       "      <td>Chidi🐦</td>\n",
       "      <td>&lt;Media omitted&gt;\\n</td>\n",
       "      <td>2</td>\n",
       "      <td>February</td>\n",
       "      <td>22</td>\n",
       "      <td>17</td>\n",
       "      <td>44</td>\n",
       "    </tr>\n",
       "    <tr>\n",
       "      <th>42</th>\n",
       "      <td>Chidi🐦</td>\n",
       "      <td>&lt;Media omitted&gt;\\n</td>\n",
       "      <td>2</td>\n",
       "      <td>February</td>\n",
       "      <td>22</td>\n",
       "      <td>17</td>\n",
       "      <td>50</td>\n",
       "    </tr>\n",
       "    <tr>\n",
       "      <th>43</th>\n",
       "      <td>Chidi🐦</td>\n",
       "      <td>🐦\\n</td>\n",
       "      <td>2</td>\n",
       "      <td>February</td>\n",
       "      <td>22</td>\n",
       "      <td>17</td>\n",
       "      <td>50</td>\n",
       "    </tr>\n",
       "    <tr>\n",
       "      <th>45</th>\n",
       "      <td>Chidi🐦</td>\n",
       "      <td>a ka dio chalkpad ka ss\\n</td>\n",
       "      <td>2</td>\n",
       "      <td>February</td>\n",
       "      <td>22</td>\n",
       "      <td>17</td>\n",
       "      <td>52</td>\n",
       "    </tr>\n",
       "    <tr>\n",
       "      <th>...</th>\n",
       "      <td>...</td>\n",
       "      <td>...</td>\n",
       "      <td>...</td>\n",
       "      <td>...</td>\n",
       "      <td>...</td>\n",
       "      <td>...</td>\n",
       "      <td>...</td>\n",
       "    </tr>\n",
       "    <tr>\n",
       "      <th>6546</th>\n",
       "      <td>Chidi🐦</td>\n",
       "      <td>Tg 409 first bench from entrance\\n</td>\n",
       "      <td>7</td>\n",
       "      <td>22</td>\n",
       "      <td>22</td>\n",
       "      <td>11</td>\n",
       "      <td>30</td>\n",
       "    </tr>\n",
       "    <tr>\n",
       "      <th>6549</th>\n",
       "      <td>Chidi🐦</td>\n",
       "      <td>This message was deleted\\n</td>\n",
       "      <td>7</td>\n",
       "      <td>22</td>\n",
       "      <td>22</td>\n",
       "      <td>11</td>\n",
       "      <td>43</td>\n",
       "    </tr>\n",
       "    <tr>\n",
       "      <th>6550</th>\n",
       "      <td>Chidi🐦</td>\n",
       "      <td>🐦\\n</td>\n",
       "      <td>7</td>\n",
       "      <td>22</td>\n",
       "      <td>22</td>\n",
       "      <td>11</td>\n",
       "      <td>43</td>\n",
       "    </tr>\n",
       "    <tr>\n",
       "      <th>6612</th>\n",
       "      <td>Chidi🐦</td>\n",
       "      <td>+1\\n</td>\n",
       "      <td>7</td>\n",
       "      <td>28</td>\n",
       "      <td>22</td>\n",
       "      <td>12</td>\n",
       "      <td>49</td>\n",
       "    </tr>\n",
       "    <tr>\n",
       "      <th>6616</th>\n",
       "      <td>Chidi🐦</td>\n",
       "      <td>Genuine\\n</td>\n",
       "      <td>7</td>\n",
       "      <td>28</td>\n",
       "      <td>22</td>\n",
       "      <td>12</td>\n",
       "      <td>51</td>\n",
       "    </tr>\n",
       "  </tbody>\n",
       "</table>\n",
       "<p>275 rows × 7 columns</p>\n",
       "</div>"
      ],
      "text/plain": [
       "        user                             message day     month year hour  \\\n",
       "36    Chidi🐦                   <Media omitted>\\n   2  February   22   17   \n",
       "41    Chidi🐦                   <Media omitted>\\n   2  February   22   17   \n",
       "42    Chidi🐦                   <Media omitted>\\n   2  February   22   17   \n",
       "43    Chidi🐦                                 🐦\\n   2  February   22   17   \n",
       "45    Chidi🐦           a ka dio chalkpad ka ss\\n   2  February   22   17   \n",
       "...      ...                                 ...  ..       ...  ...  ...   \n",
       "6546  Chidi🐦  Tg 409 first bench from entrance\\n   7        22   22   11   \n",
       "6549  Chidi🐦          This message was deleted\\n   7        22   22   11   \n",
       "6550  Chidi🐦                                 🐦\\n   7        22   22   11   \n",
       "6612  Chidi🐦                                +1\\n   7        28   22   12   \n",
       "6616  Chidi🐦                           Genuine\\n   7        28   22   12   \n",
       "\n",
       "     minute  \n",
       "36       31  \n",
       "41       44  \n",
       "42       50  \n",
       "43       50  \n",
       "45       52  \n",
       "...     ...  \n",
       "6546     30  \n",
       "6549     43  \n",
       "6550     43  \n",
       "6612     49  \n",
       "6616     51  \n",
       "\n",
       "[275 rows x 7 columns]"
      ]
     },
     "execution_count": 25,
     "metadata": {},
     "output_type": "execute_result"
    }
   ],
   "source": [
    "df[df['user']=='Chidi🐦']"
   ]
  },
  {
   "cell_type": "markdown",
   "id": "7e036436-2c1f-4503-bebe-3f85652fe1bd",
   "metadata": {},
   "source": [
    "words=[]\n",
    "for message in messages:\n",
    "    words.extend(message.split())"
   ]
  },
  {
   "cell_type": "code",
   "execution_count": 30,
   "id": "c7b321d0-fa62-4ad9-beb7-e628fd1bc735",
   "metadata": {},
   "outputs": [
    {
     "data": {
      "text/plain": [
       "31395"
      ]
     },
     "execution_count": 30,
     "metadata": {},
     "output_type": "execute_result"
    }
   ],
   "source": [
    "words=[]\n",
    "for message in df['message']:\n",
    "    words.extend(message.split())\n",
    "len(words)"
   ]
  },
  {
   "cell_type": "code",
   "execution_count": 32,
   "id": "7ac5a287-f4c3-4686-96d0-33940834e8d8",
   "metadata": {},
   "outputs": [
    {
     "name": "stdout",
     "output_type": "stream",
     "text": [
      "Collecting urlextract\n",
      "  Downloading urlextract-1.6.0-py3-none-any.whl (20 kB)\n",
      "Collecting platformdirs\n",
      "  Using cached platformdirs-2.5.2-py3-none-any.whl (14 kB)\n",
      "Collecting uritools\n",
      "  Downloading uritools-4.0.0-py3-none-any.whl (10 kB)\n",
      "Requirement already satisfied: filelock in c:\\users\\hridey\\anaconda3\\lib\\site-packages (from urlextract) (3.6.0)\n",
      "Requirement already satisfied: idna in c:\\users\\hridey\\anaconda3\\lib\\site-packages (from urlextract) (3.3)\n",
      "Installing collected packages: uritools, platformdirs, urlextract\n",
      "Successfully installed platformdirs-2.5.2 uritools-4.0.0 urlextract-1.6.0\n"
     ]
    }
   ],
   "source": [
    "# ! pip install urlextract"
   ]
  },
  {
   "cell_type": "code",
   "execution_count": 37,
   "id": "c147979d-aa08-430a-a68f-5c55baa9843a",
   "metadata": {},
   "outputs": [],
   "source": [
    "from urlextract import URLExtract\n",
    "\n",
    "links= []\n",
    "for message in df['message']:\n",
    "    extractor=URLExtract()\n",
    "    urls=extractor.find_urls(message)\n",
    "    links.extend(urls)"
   ]
  },
  {
   "cell_type": "code",
   "execution_count": 40,
   "id": "ec6a3c14-9d3c-42e4-a0bf-b6e43c77e307",
   "metadata": {},
   "outputs": [
    {
     "data": {
      "text/plain": [
       "108"
      ]
     },
     "execution_count": 40,
     "metadata": {},
     "output_type": "execute_result"
    }
   ],
   "source": [
    "len(links)\n"
   ]
  },
  {
   "cell_type": "code",
   "execution_count": 44,
   "id": "4e80b7db-9e7e-4cb8-b106-73199087b288",
   "metadata": {},
   "outputs": [],
   "source": [
    "x=df['user'].value_counts().head(10)"
   ]
  },
  {
   "cell_type": "code",
   "execution_count": 45,
   "id": "d67d825a-270f-44ba-b53f-608a00ccb4e1",
   "metadata": {},
   "outputs": [],
   "source": [
    "name=x.index\n",
    "count=x.values"
   ]
  },
  {
   "cell_type": "code",
   "execution_count": 49,
   "id": "3f88519f-4d3c-4991-934f-4ab91e69ce06",
   "metadata": {},
   "outputs": [
    {
     "data": {
      "image/png": "[encoded data removed]",
      "text/plain": [
       "<Figure size 432x288 with 1 Axes>"
      ]
     },
     "metadata": {
      "needs_background": "light"
     },
     "output_type": "display_data"
    }
   ],
   "source": [
    "import matplotlib.pyplot as plt\n",
    "plt.bar(name,count)\n",
    "plt.xticks(rotation='vertical')\n",
    "plt.show()"
   ]
  },
  {
   "cell_type": "code",
   "execution_count": null,
   "id": "a8b23e7b-6fd6-4ce5-83c6-3935073a14bf",
   "metadata": {},
   "outputs": [],
   "source": []
  }
 ],
 "metadata": {
  "kernelspec": {
   "display_name": "Python 3 (ipykernel)",
   "language": "python",
   "name": "python3"
  },
  "language_info": {
   "codemirror_mode": {
    "name": "ipython",
    "version": 3
   },
   "file_extension": ".py",
   "mimetype": "text/x-python",
   "name": "python",
   "nbconvert_exporter": "python",
   "pygments_lexer": "ipython3",
   "version": "3.9.12"
  }
 },
 "nbformat": 4,
 "nbformat_minor": 5
}
