{
 "cells": [
  {
   "cell_type": "code",
   "execution_count": 52,
   "id": "91df5d45-5c28-4e2a-a07d-2194a3504d65",
   "metadata": {},
   "outputs": [],
   "source": [
    "import numpy as np\n",
    "import pandas as pd\n",
    "import re"
   ]
  },
  {
   "cell_type": "code",
   "execution_count": 53,
   "id": "b843b9ec-611a-4171-8e9c-bf4225fea7f5",
   "metadata": {},
   "outputs": [],
   "source": [
    "f=open('./data/WhatsApp Chat with G 8 unofficial.txt','r',encoding='utf-8')"
   ]
  },
  {
   "cell_type": "code",
   "execution_count": 54,
   "id": "3c6e6b25-7a96-4d21-922b-480617cd6cd0",
   "metadata": {},
   "outputs": [],
   "source": [
    "data=f.read()"
   ]
  },
  {
   "cell_type": "code",
   "execution_count": 55,
   "id": "3a5c5a44-535d-4e4a-9084-f5216f19c113",
   "metadata": {},
   "outputs": [],
   "source": [
    "pattern='\\d{1,2}/\\d{1,2}/\\d{2,4},\\s\\d{1,2}:\\d{2}\\s-\\s'"
   ]
  },
  {
   "cell_type": "code",
   "execution_count": 56,
   "id": "38871400-8851-4b71-8c81-5868d48e6e76",
   "metadata": {},
   "outputs": [],
   "source": [
    "messages=re.split(pattern,data)[1:]"
   ]
  },
  {
   "cell_type": "code",
   "execution_count": 57,
   "id": "d810184a-0853-46b0-9caf-6ca871c742a0",
   "metadata": {},
   "outputs": [],
   "source": [
    "dates=re.findall(pattern,data)"
   ]
  },
  {
   "cell_type": "code",
   "execution_count": 75,
   "id": "70f33203-ab04-43ef-9587-17605925b629",
   "metadata": {},
   "outputs": [
    {
     "data": {
      "text/html": [
       "<div>\n",
       "<style scoped>\n",
       "    .dataframe tbody tr th:only-of-type {\n",
       "        vertical-align: middle;\n",
       "    }\n",
       "\n",
       "    .dataframe tbody tr th {\n",
       "        vertical-align: top;\n",
       "    }\n",
       "\n",
       "    .dataframe thead th {\n",
       "        text-align: right;\n",
       "    }\n",
       "</style>\n",
       "<table border=\"1\" class=\"dataframe\">\n",
       "  <thead>\n",
       "    <tr style=\"text-align: right;\">\n",
       "      <th></th>\n",
       "      <th>user_messages</th>\n",
       "      <th>message_date</th>\n",
       "    </tr>\n",
       "  </thead>\n",
       "  <tbody>\n",
       "    <tr>\n",
       "      <th>0</th>\n",
       "      <td>Messages and calls are end-to-end encrypted. N...</td>\n",
       "      <td>2/2/22, 15:37 -</td>\n",
       "    </tr>\n",
       "    <tr>\n",
       "      <th>1</th>\n",
       "      <td>+91 94723 00471 created group \"G-8 Unofficial\"\\n</td>\n",
       "      <td>2/2/22, 15:33 -</td>\n",
       "    </tr>\n",
       "    <tr>\n",
       "      <th>2</th>\n",
       "      <td>You joined using this group's invite link\\n</td>\n",
       "      <td>2/2/22, 15:37 -</td>\n",
       "    </tr>\n",
       "    <tr>\n",
       "      <th>3</th>\n",
       "      <td>+91 95186 29772 joined using this group's invi...</td>\n",
       "      <td>2/2/22, 15:42 -</td>\n",
       "    </tr>\n",
       "    <tr>\n",
       "      <th>4</th>\n",
       "      <td>Aditya Sharma joined using this group's invite...</td>\n",
       "      <td>2/2/22, 15:42 -</td>\n",
       "    </tr>\n",
       "  </tbody>\n",
       "</table>\n",
       "</div>"
      ],
      "text/plain": [
       "                                       user_messages      message_date\n",
       "0  Messages and calls are end-to-end encrypted. N...  2/2/22, 15:37 - \n",
       "1   +91 94723 00471 created group \"G-8 Unofficial\"\\n  2/2/22, 15:33 - \n",
       "2        You joined using this group's invite link\\n  2/2/22, 15:37 - \n",
       "3  +91 95186 29772 joined using this group's invi...  2/2/22, 15:42 - \n",
       "4  Aditya Sharma joined using this group's invite...  2/2/22, 15:42 - "
      ]
     },
     "execution_count": 75,
     "metadata": {},
     "output_type": "execute_result"
    }
   ],
   "source": [
    "df=pd.DataFrame({'user_messages': messages,'message_date': dates})\n",
    "df.head()"
   ]
  },
  {
   "cell_type": "code",
   "execution_count": 76,
   "id": "58e3f067-367c-4bb1-a40e-e8444c1fd407",
   "metadata": {},
   "outputs": [],
   "source": [
    "def datetime_conv(x):\n",
    "    x=x.split(\",\")\n",
    "    date=x[0]\n",
    "    time=x[1].strip()\n",
    "    time=time.split(' ')[0]\n",
    "    return date,time\n",
    "        "
   ]
  },
  {
   "cell_type": "code",
   "execution_count": 77,
   "id": "72d4331c-c750-4044-803c-c8a3d2d4f349",
   "metadata": {},
   "outputs": [],
   "source": [
    "date=[]\n",
    "time=[]\n",
    "arr=df['message_date'].apply(lambda x:datetime_conv(x))\n",
    "for i in arr:\n",
    "    date.append(i[0])\n",
    "    time.append(i[1])"
   ]
  },
  {
   "cell_type": "code",
   "execution_count": 78,
   "id": "b6f931c5-0613-4138-ac4e-9a52e760e2e0",
   "metadata": {},
   "outputs": [],
   "source": [
    "df['date']=date\n",
    "df['time']=time"
   ]
  },
  {
   "cell_type": "code",
   "execution_count": 79,
   "id": "1929ae4d-0556-41ea-ab98-9270243e9134",
   "metadata": {},
   "outputs": [],
   "source": [
    "df.drop('message_date',axis=1,inplace=True)"
   ]
  },
  {
   "cell_type": "code",
   "execution_count": 80,
   "id": "3053bd50-900b-4968-9ca5-8d246b1688f3",
   "metadata": {},
   "outputs": [],
   "source": [
    "# for x in df['message_date']:\n",
    "#     x=x.split(\",\")\n",
    "#     date=x[0]\n",
    "#     time=x[1].strip()\n",
    "#     time=time.split(' ')[0]\n",
    "#     print(y)"
   ]
  },
  {
   "cell_type": "code",
   "execution_count": 81,
   "id": "c1cc2e5d-12c7-4392-8d47-92d38a1536fb",
   "metadata": {},
   "outputs": [],
   "source": [
    "# df['message_date']=pd.to_datetime(df['message_date'],format='%d/%m/%Y, %H:%M - ')"
   ]
  },
  {
   "cell_type": "code",
   "execution_count": 82,
   "id": "ddb06859-4548-4686-9ecb-6f48ed4c6ca9",
   "metadata": {},
   "outputs": [
    {
     "data": {
      "text/html": [
       "<div>\n",
       "<style scoped>\n",
       "    .dataframe tbody tr th:only-of-type {\n",
       "        vertical-align: middle;\n",
       "    }\n",
       "\n",
       "    .dataframe tbody tr th {\n",
       "        vertical-align: top;\n",
       "    }\n",
       "\n",
       "    .dataframe thead th {\n",
       "        text-align: right;\n",
       "    }\n",
       "</style>\n",
       "<table border=\"1\" class=\"dataframe\">\n",
       "  <thead>\n",
       "    <tr style=\"text-align: right;\">\n",
       "      <th></th>\n",
       "      <th>user_messages</th>\n",
       "      <th>date</th>\n",
       "      <th>time</th>\n",
       "    </tr>\n",
       "  </thead>\n",
       "  <tbody>\n",
       "    <tr>\n",
       "      <th>0</th>\n",
       "      <td>Messages and calls are end-to-end encrypted. N...</td>\n",
       "      <td>2/2/22</td>\n",
       "      <td>15:37</td>\n",
       "    </tr>\n",
       "    <tr>\n",
       "      <th>1</th>\n",
       "      <td>+91 94723 00471 created group \"G-8 Unofficial\"\\n</td>\n",
       "      <td>2/2/22</td>\n",
       "      <td>15:33</td>\n",
       "    </tr>\n",
       "    <tr>\n",
       "      <th>2</th>\n",
       "      <td>You joined using this group's invite link\\n</td>\n",
       "      <td>2/2/22</td>\n",
       "      <td>15:37</td>\n",
       "    </tr>\n",
       "    <tr>\n",
       "      <th>3</th>\n",
       "      <td>+91 95186 29772 joined using this group's invi...</td>\n",
       "      <td>2/2/22</td>\n",
       "      <td>15:42</td>\n",
       "    </tr>\n",
       "    <tr>\n",
       "      <th>4</th>\n",
       "      <td>Aditya Sharma joined using this group's invite...</td>\n",
       "      <td>2/2/22</td>\n",
       "      <td>15:42</td>\n",
       "    </tr>\n",
       "    <tr>\n",
       "      <th>...</th>\n",
       "      <td>...</td>\n",
       "      <td>...</td>\n",
       "      <td>...</td>\n",
       "    </tr>\n",
       "    <tr>\n",
       "      <th>6670</th>\n",
       "      <td>&lt;Media omitted&gt;\\n</td>\n",
       "      <td>8/4/22</td>\n",
       "      <td>10:47</td>\n",
       "    </tr>\n",
       "    <tr>\n",
       "      <th>6671</th>\n",
       "      <td>Kisi k mcp lab m A+ ya O aaya?\\n</td>\n",
       "      <td>8/4/22</td>\n",
       "      <td>12:59</td>\n",
       "    </tr>\n",
       "    <tr>\n",
       "      <th>6672</th>\n",
       "      <td>@919646370683\\n</td>\n",
       "      <td>8/4/22</td>\n",
       "      <td>13:01</td>\n",
       "    </tr>\n",
       "    <tr>\n",
       "      <th>6673</th>\n",
       "      <td>&lt;Media omitted&gt;\\n</td>\n",
       "      <td>8/4/22</td>\n",
       "      <td>13:01</td>\n",
       "    </tr>\n",
       "    <tr>\n",
       "      <th>6674</th>\n",
       "      <td>Due to such overwhelming  response and many re...</td>\n",
       "      <td>8/4/22</td>\n",
       "      <td>21:34</td>\n",
       "    </tr>\n",
       "  </tbody>\n",
       "</table>\n",
       "<p>6675 rows × 3 columns</p>\n",
       "</div>"
      ],
      "text/plain": [
       "                                          user_messages    date   time\n",
       "0     Messages and calls are end-to-end encrypted. N...  2/2/22  15:37\n",
       "1      +91 94723 00471 created group \"G-8 Unofficial\"\\n  2/2/22  15:33\n",
       "2           You joined using this group's invite link\\n  2/2/22  15:37\n",
       "3     +91 95186 29772 joined using this group's invi...  2/2/22  15:42\n",
       "4     Aditya Sharma joined using this group's invite...  2/2/22  15:42\n",
       "...                                                 ...     ...    ...\n",
       "6670                                  <Media omitted>\\n  8/4/22  10:47\n",
       "6671                   Kisi k mcp lab m A+ ya O aaya?\\n  8/4/22  12:59\n",
       "6672                                    @919646370683\\n  8/4/22  13:01\n",
       "6673                                  <Media omitted>\\n  8/4/22  13:01\n",
       "6674  Due to such overwhelming  response and many re...  8/4/22  21:34\n",
       "\n",
       "[6675 rows x 3 columns]"
      ]
     },
     "execution_count": 82,
     "metadata": {},
     "output_type": "execute_result"
    }
   ],
   "source": [
    "df"
   ]
  },
  {
   "cell_type": "code",
   "execution_count": 83,
   "id": "d9f7e71c-442d-4ed0-b147-a154194f9bb6",
   "metadata": {},
   "outputs": [],
   "source": [
    "users=[]\n",
    "messages=[]\n",
    "\n",
    "for x in df['user_messages']:\n",
    "    entry=re.split('([\\w\\W]+?):\\s',x)\n",
    "    if entry[1:]:\n",
    "        users.append(entry[1])\n",
    "        messages.append(entry[2])\n",
    "    else:\n",
    "        users.append('group_notification')\n",
    "        messages.append(entry[0])"
   ]
  },
  {
   "cell_type": "code",
   "execution_count": 84,
   "id": "96e6653b-622e-4f0d-87ae-431dea9623f2",
   "metadata": {},
   "outputs": [],
   "source": [
    "df['user']=users\n",
    "df['message']=messages\n",
    "df.drop('user_messages',axis=1,inplace=True)"
   ]
  },
  {
   "cell_type": "code",
   "execution_count": null,
   "id": "a1569dc3-b7bd-4944-9628-daa5ba450d6c",
   "metadata": {},
   "outputs": [],
   "source": []
  },
  {
   "cell_type": "code",
   "execution_count": 89,
   "id": "eba2bcbc-c98f-4076-bb89-651ed5488401",
   "metadata": {},
   "outputs": [],
   "source": [
    "day=[]\n",
    "month=[]\n",
    "year=[]\n",
    "for x in df[\"date\"]:\n",
    "    x=x.split('/')\n",
    "    day.append(x[1])\n",
    "    month.append(x[0])\n",
    "    year.append(x[2])"
   ]
  },
  {
   "cell_type": "code",
   "execution_count": null,
   "id": "22e592c1-c2e0-4b7d-8b3b-868921227749",
   "metadata": {},
   "outputs": [],
   "source": []
  },
  {
   "cell_type": "code",
   "execution_count": 90,
   "id": "ad19f67a-06bc-436d-91c6-58dc6421b8ec",
   "metadata": {},
   "outputs": [],
   "source": [
    "df['day']=day\n",
    "df['month']=month\n",
    "df['year']=year"
   ]
  },
  {
   "cell_type": "code",
   "execution_count": 91,
   "id": "46c98a79-6ebf-4f1a-81d2-48de4d297b38",
   "metadata": {},
   "outputs": [
    {
     "data": {
      "text/plain": [
       "2    2276\n",
       "3    1563\n",
       "4    1290\n",
       "7     623\n",
       "5     489\n",
       "6     403\n",
       "8      31\n",
       "Name: month, dtype: int64"
      ]
     },
     "execution_count": 91,
     "metadata": {},
     "output_type": "execute_result"
    }
   ],
   "source": [
    "df['month'].value_counts()"
   ]
  },
  {
   "cell_type": "code",
   "execution_count": 92,
   "id": "679a7b00-0cba-43c2-956c-cb24ce159143",
   "metadata": {},
   "outputs": [],
   "source": [
    "months={'1':'January',\n",
    "        \"2\":'February',\n",
    "        \"3\":'March',\n",
    "        \"4\":\"April\",\n",
    "        \"5\":\"May\",\n",
    "        \"6\":\"June\",\n",
    "        \"7\":\"July\",\n",
    "        \"8\":'August',\n",
    "        \"9\":\"September\",\n",
    "        \"10\":'October',\n",
    "        \"11\":\"November\",\n",
    "        \"12\":\"December\"}"
   ]
  },
  {
   "cell_type": "code",
   "execution_count": 93,
   "id": "2f02221c-4fa1-440c-a579-deb69c459945",
   "metadata": {},
   "outputs": [],
   "source": [
    "df.replace({\"month\":months},inplace=True)"
   ]
  },
  {
   "cell_type": "code",
   "execution_count": 94,
   "id": "7d058ce5-82fd-4f31-ad5e-5331f3ad6bf1",
   "metadata": {},
   "outputs": [],
   "source": [
    "hour=[]\n",
    "minute=[]\n",
    "for x in df[\"time\"]:\n",
    "    x=x.split(\":\")\n",
    "    hour.append(x[0])\n",
    "    minute.append(x[1])"
   ]
  },
  {
   "cell_type": "code",
   "execution_count": 95,
   "id": "9b3a3485-6cda-4ccf-9d13-6fc4b858ba92",
   "metadata": {},
   "outputs": [],
   "source": [
    "df[\"hour\"]=hour\n",
    "df['minute']=minute\n",
    "df.drop({'time'},axis=1,inplace=True)"
   ]
  },
  {
   "cell_type": "code",
   "execution_count": 96,
   "id": "312f55e4-bca9-4271-addd-0cefae4212f1",
   "metadata": {},
   "outputs": [
    {
     "data": {
      "text/html": [
       "<div>\n",
       "<style scoped>\n",
       "    .dataframe tbody tr th:only-of-type {\n",
       "        vertical-align: middle;\n",
       "    }\n",
       "\n",
       "    .dataframe tbody tr th {\n",
       "        vertical-align: top;\n",
       "    }\n",
       "\n",
       "    .dataframe thead th {\n",
       "        text-align: right;\n",
       "    }\n",
       "</style>\n",
       "<table border=\"1\" class=\"dataframe\">\n",
       "  <thead>\n",
       "    <tr style=\"text-align: right;\">\n",
       "      <th></th>\n",
       "      <th>date</th>\n",
       "      <th>user</th>\n",
       "      <th>message</th>\n",
       "      <th>day</th>\n",
       "      <th>month</th>\n",
       "      <th>year</th>\n",
       "      <th>hour</th>\n",
       "      <th>minute</th>\n",
       "    </tr>\n",
       "  </thead>\n",
       "  <tbody>\n",
       "    <tr>\n",
       "      <th>0</th>\n",
       "      <td>2/2/22</td>\n",
       "      <td>group_notification</td>\n",
       "      <td>Messages and calls are end-to-end encrypted. N...</td>\n",
       "      <td>2</td>\n",
       "      <td>February</td>\n",
       "      <td>22</td>\n",
       "      <td>15</td>\n",
       "      <td>37</td>\n",
       "    </tr>\n",
       "    <tr>\n",
       "      <th>1</th>\n",
       "      <td>2/2/22</td>\n",
       "      <td>group_notification</td>\n",
       "      <td>+91 94723 00471 created group \"G-8 Unofficial\"\\n</td>\n",
       "      <td>2</td>\n",
       "      <td>February</td>\n",
       "      <td>22</td>\n",
       "      <td>15</td>\n",
       "      <td>33</td>\n",
       "    </tr>\n",
       "    <tr>\n",
       "      <th>2</th>\n",
       "      <td>2/2/22</td>\n",
       "      <td>group_notification</td>\n",
       "      <td>You joined using this group's invite link\\n</td>\n",
       "      <td>2</td>\n",
       "      <td>February</td>\n",
       "      <td>22</td>\n",
       "      <td>15</td>\n",
       "      <td>37</td>\n",
       "    </tr>\n",
       "    <tr>\n",
       "      <th>3</th>\n",
       "      <td>2/2/22</td>\n",
       "      <td>group_notification</td>\n",
       "      <td>+91 95186 29772 joined using this group's invi...</td>\n",
       "      <td>2</td>\n",
       "      <td>February</td>\n",
       "      <td>22</td>\n",
       "      <td>15</td>\n",
       "      <td>42</td>\n",
       "    </tr>\n",
       "    <tr>\n",
       "      <th>4</th>\n",
       "      <td>2/2/22</td>\n",
       "      <td>group_notification</td>\n",
       "      <td>Aditya Sharma joined using this group's invite...</td>\n",
       "      <td>2</td>\n",
       "      <td>February</td>\n",
       "      <td>22</td>\n",
       "      <td>15</td>\n",
       "      <td>42</td>\n",
       "    </tr>\n",
       "    <tr>\n",
       "      <th>...</th>\n",
       "      <td>...</td>\n",
       "      <td>...</td>\n",
       "      <td>...</td>\n",
       "      <td>...</td>\n",
       "      <td>...</td>\n",
       "      <td>...</td>\n",
       "      <td>...</td>\n",
       "      <td>...</td>\n",
       "    </tr>\n",
       "    <tr>\n",
       "      <th>6670</th>\n",
       "      <td>8/4/22</td>\n",
       "      <td>group_notification</td>\n",
       "      <td>&lt;Media omitted&gt;\\n</td>\n",
       "      <td>4</td>\n",
       "      <td>August</td>\n",
       "      <td>22</td>\n",
       "      <td>10</td>\n",
       "      <td>47</td>\n",
       "    </tr>\n",
       "    <tr>\n",
       "      <th>6671</th>\n",
       "      <td>8/4/22</td>\n",
       "      <td>group_notification</td>\n",
       "      <td>Kisi k mcp lab m A+ ya O aaya?\\n</td>\n",
       "      <td>4</td>\n",
       "      <td>August</td>\n",
       "      <td>22</td>\n",
       "      <td>12</td>\n",
       "      <td>59</td>\n",
       "    </tr>\n",
       "    <tr>\n",
       "      <th>6672</th>\n",
       "      <td>8/4/22</td>\n",
       "      <td>group_notification</td>\n",
       "      <td>@919646370683\\n</td>\n",
       "      <td>4</td>\n",
       "      <td>August</td>\n",
       "      <td>22</td>\n",
       "      <td>13</td>\n",
       "      <td>01</td>\n",
       "    </tr>\n",
       "    <tr>\n",
       "      <th>6673</th>\n",
       "      <td>8/4/22</td>\n",
       "      <td>group_notification</td>\n",
       "      <td>&lt;Media omitted&gt;\\n</td>\n",
       "      <td>4</td>\n",
       "      <td>August</td>\n",
       "      <td>22</td>\n",
       "      <td>13</td>\n",
       "      <td>01</td>\n",
       "    </tr>\n",
       "    <tr>\n",
       "      <th>6674</th>\n",
       "      <td>8/4/22</td>\n",
       "      <td>group_notification</td>\n",
       "      <td>Due to such overwhelming  response and many re...</td>\n",
       "      <td>4</td>\n",
       "      <td>August</td>\n",
       "      <td>22</td>\n",
       "      <td>21</td>\n",
       "      <td>34</td>\n",
       "    </tr>\n",
       "  </tbody>\n",
       "</table>\n",
       "<p>6675 rows × 8 columns</p>\n",
       "</div>"
      ],
      "text/plain": [
       "        date                user  \\\n",
       "0     2/2/22  group_notification   \n",
       "1     2/2/22  group_notification   \n",
       "2     2/2/22  group_notification   \n",
       "3     2/2/22  group_notification   \n",
       "4     2/2/22  group_notification   \n",
       "...      ...                 ...   \n",
       "6670  8/4/22  group_notification   \n",
       "6671  8/4/22  group_notification   \n",
       "6672  8/4/22  group_notification   \n",
       "6673  8/4/22  group_notification   \n",
       "6674  8/4/22  group_notification   \n",
       "\n",
       "                                                message day     month year  \\\n",
       "0     Messages and calls are end-to-end encrypted. N...   2  February   22   \n",
       "1      +91 94723 00471 created group \"G-8 Unofficial\"\\n   2  February   22   \n",
       "2           You joined using this group's invite link\\n   2  February   22   \n",
       "3     +91 95186 29772 joined using this group's invi...   2  February   22   \n",
       "4     Aditya Sharma joined using this group's invite...   2  February   22   \n",
       "...                                                 ...  ..       ...  ...   \n",
       "6670                                  <Media omitted>\\n   4    August   22   \n",
       "6671                   Kisi k mcp lab m A+ ya O aaya?\\n   4    August   22   \n",
       "6672                                    @919646370683\\n   4    August   22   \n",
       "6673                                  <Media omitted>\\n   4    August   22   \n",
       "6674  Due to such overwhelming  response and many re...   4    August   22   \n",
       "\n",
       "     hour minute  \n",
       "0      15     37  \n",
       "1      15     33  \n",
       "2      15     37  \n",
       "3      15     42  \n",
       "4      15     42  \n",
       "...   ...    ...  \n",
       "6670   10     47  \n",
       "6671   12     59  \n",
       "6672   13     01  \n",
       "6673   13     01  \n",
       "6674   21     34  \n",
       "\n",
       "[6675 rows x 8 columns]"
      ]
     },
     "execution_count": 96,
     "metadata": {},
     "output_type": "execute_result"
    }
   ],
   "source": [
    "df"
   ]
  },
  {
   "cell_type": "code",
   "execution_count": 97,
   "id": "d033580f-2e55-4f5f-9533-4cdd4c426aa0",
   "metadata": {},
   "outputs": [
    {
     "data": {
      "text/plain": [
       "array(['group_notification'], dtype=object)"
      ]
     },
     "execution_count": 97,
     "metadata": {},
     "output_type": "execute_result"
    }
   ],
   "source": [
    "df['user'].unique()"
   ]
  },
  {
   "cell_type": "code",
   "execution_count": 98,
   "id": "7a733824-7583-4d41-b094-a84691d38adb",
   "metadata": {},
   "outputs": [
    {
     "data": {
      "text/plain": [
       "Series([], Name: message, dtype: object)"
      ]
     },
     "execution_count": 98,
     "metadata": {},
     "output_type": "execute_result"
    }
   ],
   "source": [
    "df[df['user']=='Chidi🐦']['message']"
   ]
  },
  {
   "cell_type": "markdown",
   "id": "7e036436-2c1f-4503-bebe-3f85652fe1bd",
   "metadata": {},
   "source": [
    "words=[]\n",
    "for message in messages:\n",
    "    words.extend(message.split())"
   ]
  },
  {
   "cell_type": "code",
   "execution_count": 99,
   "id": "c7b321d0-fa62-4ad9-beb7-e628fd1bc735",
   "metadata": {},
   "outputs": [
    {
     "data": {
      "text/plain": [
       "31395"
      ]
     },
     "execution_count": 99,
     "metadata": {},
     "output_type": "execute_result"
    }
   ],
   "source": [
    "words=[]\n",
    "for message in df['message']:\n",
    "    words.extend(message.split())\n",
    "len(words)"
   ]
  },
  {
   "cell_type": "code",
   "execution_count": 100,
   "id": "7ac5a287-f4c3-4686-96d0-33940834e8d8",
   "metadata": {},
   "outputs": [],
   "source": [
    "# ! pip install urlextract"
   ]
  },
  {
   "cell_type": "code",
   "execution_count": 101,
   "id": "c147979d-aa08-430a-a68f-5c55baa9843a",
   "metadata": {},
   "outputs": [],
   "source": [
    "# from urlextract import URLExtract\n",
    "\n",
    "# links= []\n",
    "# for message in df['message']:\n",
    "#     extractor=URLExtract()\n",
    "#     urls=extractor.find_urls(message)\n",
    "#     links.extend(urls)"
   ]
  },
  {
   "cell_type": "code",
   "execution_count": 102,
   "id": "ec6a3c14-9d3c-42e4-a0bf-b6e43c77e307",
   "metadata": {},
   "outputs": [],
   "source": [
    "# len(links)\n"
   ]
  },
  {
   "cell_type": "code",
   "execution_count": 103,
   "id": "4e80b7db-9e7e-4cb8-b106-73199087b288",
   "metadata": {},
   "outputs": [],
   "source": [
    "x=df['user'].value_counts().head(10)"
   ]
  },
  {
   "cell_type": "code",
   "execution_count": 104,
   "id": "d67d825a-270f-44ba-b53f-608a00ccb4e1",
   "metadata": {},
   "outputs": [],
   "source": [
    "name=x.index\n",
    "count=x.values"
   ]
  },
  {
   "cell_type": "code",
   "execution_count": 105,
   "id": "3f88519f-4d3c-4991-934f-4ab91e69ce06",
   "metadata": {},
   "outputs": [
    {
     "data": {
      "image/png": "[encoded data removed]",
      "text/plain": [
       "<Figure size 432x288 with 1 Axes>"
      ]
     },
     "metadata": {
      "needs_background": "light"
     },
     "output_type": "display_data"
    }
   ],
   "source": [
    "import matplotlib.pyplot as plt\n",
    "plt.bar(name,count)\n",
    "plt.xticks(rotation='vertical')\n",
    "plt.show()"
   ]
  },
  {
   "cell_type": "code",
   "execution_count": 106,
   "id": "a8b23e7b-6fd6-4ce5-83c6-3935073a14bf",
   "metadata": {},
   "outputs": [
    {
     "data": {
      "text/html": [
       "<div>\n",
       "<style scoped>\n",
       "    .dataframe tbody tr th:only-of-type {\n",
       "        vertical-align: middle;\n",
       "    }\n",
       "\n",
       "    .dataframe tbody tr th {\n",
       "        vertical-align: top;\n",
       "    }\n",
       "\n",
       "    .dataframe thead th {\n",
       "        text-align: right;\n",
       "    }\n",
       "</style>\n",
       "<table border=\"1\" class=\"dataframe\">\n",
       "  <thead>\n",
       "    <tr style=\"text-align: right;\">\n",
       "      <th></th>\n",
       "      <th>name</th>\n",
       "      <th>percent</th>\n",
       "    </tr>\n",
       "  </thead>\n",
       "  <tbody>\n",
       "    <tr>\n",
       "      <th>0</th>\n",
       "      <td>group_notification</td>\n",
       "      <td>100.0</td>\n",
       "    </tr>\n",
       "  </tbody>\n",
       "</table>\n",
       "</div>"
      ],
      "text/plain": [
       "                 name  percent\n",
       "0  group_notification    100.0"
      ]
     },
     "execution_count": 106,
     "metadata": {},
     "output_type": "execute_result"
    }
   ],
   "source": [
    "round((df['user'].value_counts()/df.shape[0])*100,2).reset_index().rename(columns={'index': 'name', 'user': 'percent'})"
   ]
  },
  {
   "cell_type": "code",
   "execution_count": 107,
   "id": "bea11c06-71a6-42d7-892c-4206cafb43ef",
   "metadata": {},
   "outputs": [],
   "source": [
    "# !pip install wordcloud"
   ]
  },
  {
   "cell_type": "code",
   "execution_count": 108,
   "id": "702de72f-39e4-414f-9fb0-18ca83cdf99c",
   "metadata": {},
   "outputs": [],
   "source": [
    "f=open('stop_hinglish.txt',\"r\")\n",
    "stop_words=f.read()\n",
    "# print(stop_words)"
   ]
  },
  {
   "cell_type": "code",
   "execution_count": 109,
   "id": "5951c3ab-366f-4d47-a83a-386d32fa6cfe",
   "metadata": {},
   "outputs": [],
   "source": [
    "words=[]\n",
    "temp=df[df['user']!='group_notification']\n",
    "temp=temp[temp['message']!='<Media omitted>\\n']\n",
    "for message in temp[\"message\"]:\n",
    "    for word in message.lower().split():\n",
    "        if word not in stop_words:\n",
    "            words.append(word)"
   ]
  },
  {
   "cell_type": "code",
   "execution_count": 110,
   "id": "e9f02527-835c-4b34-bc6f-1d6d7053dcbf",
   "metadata": {},
   "outputs": [
    {
     "data": {
      "text/html": [
       "<div>\n",
       "<style scoped>\n",
       "    .dataframe tbody tr th:only-of-type {\n",
       "        vertical-align: middle;\n",
       "    }\n",
       "\n",
       "    .dataframe tbody tr th {\n",
       "        vertical-align: top;\n",
       "    }\n",
       "\n",
       "    .dataframe thead th {\n",
       "        text-align: right;\n",
       "    }\n",
       "</style>\n",
       "<table border=\"1\" class=\"dataframe\">\n",
       "  <thead>\n",
       "    <tr style=\"text-align: right;\">\n",
       "      <th></th>\n",
       "    </tr>\n",
       "  </thead>\n",
       "  <tbody>\n",
       "  </tbody>\n",
       "</table>\n",
       "</div>"
      ],
      "text/plain": [
       "Empty DataFrame\n",
       "Columns: []\n",
       "Index: []"
      ]
     },
     "execution_count": 110,
     "metadata": {},
     "output_type": "execute_result"
    }
   ],
   "source": [
    "from collections import Counter\n",
    "pd.DataFrame(Counter(words).most_common(20))"
   ]
  },
  {
   "cell_type": "code",
   "execution_count": 139,
   "id": "cee85f05-ea42-419e-948d-2d55b9943027",
   "metadata": {},
   "outputs": [
    {
     "name": "stdout",
     "output_type": "stream",
     "text": [
      "Requirement already satisfied: emoji in c:\\users\\hridey\\anaconda3\\lib\\site-packages (2.0.0)\n"
     ]
    }
   ],
   "source": [
    "# !pip install emoji"
   ]
  },
  {
   "cell_type": "code",
   "execution_count": 141,
   "id": "5071c3de-1a81-432a-b32b-69843b6e01eb",
   "metadata": {},
   "outputs": [],
   "source": [
    "import emoji\n",
    "emojis =[]\n",
    "for message in df['message']:\n",
    "    emojis.extend([c for c in message if c in emoji.distinct_emoji_list(message) ])"
   ]
  },
  {
   "cell_type": "code",
   "execution_count": 142,
   "id": "7bb1b1a7-1025-462e-bfe5-10dc4f0c3b3b",
   "metadata": {},
   "outputs": [
    {
     "data": {
      "text/html": [
       "<div>\n",
       "<style scoped>\n",
       "    .dataframe tbody tr th:only-of-type {\n",
       "        vertical-align: middle;\n",
       "    }\n",
       "\n",
       "    .dataframe tbody tr th {\n",
       "        vertical-align: top;\n",
       "    }\n",
       "\n",
       "    .dataframe thead th {\n",
       "        text-align: right;\n",
       "    }\n",
       "</style>\n",
       "<table border=\"1\" class=\"dataframe\">\n",
       "  <thead>\n",
       "    <tr style=\"text-align: right;\">\n",
       "      <th></th>\n",
       "      <th>0</th>\n",
       "      <th>1</th>\n",
       "    </tr>\n",
       "  </thead>\n",
       "  <tbody>\n",
       "    <tr>\n",
       "      <th>0</th>\n",
       "      <td>😂</td>\n",
       "      <td>1479</td>\n",
       "    </tr>\n",
       "    <tr>\n",
       "      <th>1</th>\n",
       "      <td>🤣</td>\n",
       "      <td>143</td>\n",
       "    </tr>\n",
       "    <tr>\n",
       "      <th>2</th>\n",
       "      <td>🥲</td>\n",
       "      <td>106</td>\n",
       "    </tr>\n",
       "    <tr>\n",
       "      <th>3</th>\n",
       "      <td>👍</td>\n",
       "      <td>53</td>\n",
       "    </tr>\n",
       "    <tr>\n",
       "      <th>4</th>\n",
       "      <td>🥳</td>\n",
       "      <td>34</td>\n",
       "    </tr>\n",
       "    <tr>\n",
       "      <th>5</th>\n",
       "      <td>🎉</td>\n",
       "      <td>34</td>\n",
       "    </tr>\n",
       "    <tr>\n",
       "      <th>6</th>\n",
       "      <td>😅</td>\n",
       "      <td>30</td>\n",
       "    </tr>\n",
       "    <tr>\n",
       "      <th>7</th>\n",
       "      <td>🙂</td>\n",
       "      <td>27</td>\n",
       "    </tr>\n",
       "    <tr>\n",
       "      <th>8</th>\n",
       "      <td>🛐</td>\n",
       "      <td>23</td>\n",
       "    </tr>\n",
       "    <tr>\n",
       "      <th>9</th>\n",
       "      <td>🥺</td>\n",
       "      <td>21</td>\n",
       "    </tr>\n",
       "    <tr>\n",
       "      <th>10</th>\n",
       "      <td>🐦</td>\n",
       "      <td>17</td>\n",
       "    </tr>\n",
       "    <tr>\n",
       "      <th>11</th>\n",
       "      <td>🎂</td>\n",
       "      <td>16</td>\n",
       "    </tr>\n",
       "    <tr>\n",
       "      <th>12</th>\n",
       "      <td>😆</td>\n",
       "      <td>13</td>\n",
       "    </tr>\n",
       "    <tr>\n",
       "      <th>13</th>\n",
       "      <td>🌝</td>\n",
       "      <td>13</td>\n",
       "    </tr>\n",
       "    <tr>\n",
       "      <th>14</th>\n",
       "      <td>🔥</td>\n",
       "      <td>13</td>\n",
       "    </tr>\n",
       "    <tr>\n",
       "      <th>15</th>\n",
       "      <td>😭</td>\n",
       "      <td>12</td>\n",
       "    </tr>\n",
       "    <tr>\n",
       "      <th>16</th>\n",
       "      <td>💫</td>\n",
       "      <td>12</td>\n",
       "    </tr>\n",
       "    <tr>\n",
       "      <th>17</th>\n",
       "      <td>🍾</td>\n",
       "      <td>10</td>\n",
       "    </tr>\n",
       "    <tr>\n",
       "      <th>18</th>\n",
       "      <td>✨</td>\n",
       "      <td>10</td>\n",
       "    </tr>\n",
       "    <tr>\n",
       "      <th>19</th>\n",
       "      <td>😌</td>\n",
       "      <td>9</td>\n",
       "    </tr>\n",
       "    <tr>\n",
       "      <th>20</th>\n",
       "      <td>🤧</td>\n",
       "      <td>9</td>\n",
       "    </tr>\n",
       "    <tr>\n",
       "      <th>21</th>\n",
       "      <td>💯</td>\n",
       "      <td>7</td>\n",
       "    </tr>\n",
       "    <tr>\n",
       "      <th>22</th>\n",
       "      <td>🙃</td>\n",
       "      <td>7</td>\n",
       "    </tr>\n",
       "    <tr>\n",
       "      <th>23</th>\n",
       "      <td>👇</td>\n",
       "      <td>7</td>\n",
       "    </tr>\n",
       "    <tr>\n",
       "      <th>24</th>\n",
       "      <td>🌟</td>\n",
       "      <td>7</td>\n",
       "    </tr>\n",
       "    <tr>\n",
       "      <th>25</th>\n",
       "      <td>🙄</td>\n",
       "      <td>6</td>\n",
       "    </tr>\n",
       "    <tr>\n",
       "      <th>26</th>\n",
       "      <td>😊</td>\n",
       "      <td>6</td>\n",
       "    </tr>\n",
       "    <tr>\n",
       "      <th>27</th>\n",
       "      <td>👀</td>\n",
       "      <td>6</td>\n",
       "    </tr>\n",
       "    <tr>\n",
       "      <th>28</th>\n",
       "      <td>🤡</td>\n",
       "      <td>6</td>\n",
       "    </tr>\n",
       "    <tr>\n",
       "      <th>29</th>\n",
       "      <td>🎊</td>\n",
       "      <td>6</td>\n",
       "    </tr>\n",
       "    <tr>\n",
       "      <th>30</th>\n",
       "      <td>😬</td>\n",
       "      <td>5</td>\n",
       "    </tr>\n",
       "    <tr>\n",
       "      <th>31</th>\n",
       "      <td>🥱</td>\n",
       "      <td>5</td>\n",
       "    </tr>\n",
       "    <tr>\n",
       "      <th>32</th>\n",
       "      <td>🤪</td>\n",
       "      <td>4</td>\n",
       "    </tr>\n",
       "    <tr>\n",
       "      <th>33</th>\n",
       "      <td>😴</td>\n",
       "      <td>4</td>\n",
       "    </tr>\n",
       "    <tr>\n",
       "      <th>34</th>\n",
       "      <td>👉</td>\n",
       "      <td>4</td>\n",
       "    </tr>\n",
       "    <tr>\n",
       "      <th>35</th>\n",
       "      <td>😢</td>\n",
       "      <td>4</td>\n",
       "    </tr>\n",
       "    <tr>\n",
       "      <th>36</th>\n",
       "      <td>😇</td>\n",
       "      <td>4</td>\n",
       "    </tr>\n",
       "    <tr>\n",
       "      <th>37</th>\n",
       "      <td>😶</td>\n",
       "      <td>3</td>\n",
       "    </tr>\n",
       "    <tr>\n",
       "      <th>38</th>\n",
       "      <td>🤨</td>\n",
       "      <td>3</td>\n",
       "    </tr>\n",
       "    <tr>\n",
       "      <th>39</th>\n",
       "      <td>😳</td>\n",
       "      <td>3</td>\n",
       "    </tr>\n",
       "    <tr>\n",
       "      <th>40</th>\n",
       "      <td>😱</td>\n",
       "      <td>3</td>\n",
       "    </tr>\n",
       "    <tr>\n",
       "      <th>41</th>\n",
       "      <td>😏</td>\n",
       "      <td>3</td>\n",
       "    </tr>\n",
       "    <tr>\n",
       "      <th>42</th>\n",
       "      <td>😀</td>\n",
       "      <td>3</td>\n",
       "    </tr>\n",
       "    <tr>\n",
       "      <th>43</th>\n",
       "      <td>🤔</td>\n",
       "      <td>3</td>\n",
       "    </tr>\n",
       "    <tr>\n",
       "      <th>44</th>\n",
       "      <td>😔</td>\n",
       "      <td>3</td>\n",
       "    </tr>\n",
       "    <tr>\n",
       "      <th>45</th>\n",
       "      <td>😖</td>\n",
       "      <td>3</td>\n",
       "    </tr>\n",
       "    <tr>\n",
       "      <th>46</th>\n",
       "      <td>🗿</td>\n",
       "      <td>3</td>\n",
       "    </tr>\n",
       "    <tr>\n",
       "      <th>47</th>\n",
       "      <td>😵</td>\n",
       "      <td>2</td>\n",
       "    </tr>\n",
       "    <tr>\n",
       "      <th>48</th>\n",
       "      <td>👆</td>\n",
       "      <td>2</td>\n",
       "    </tr>\n",
       "    <tr>\n",
       "      <th>49</th>\n",
       "      <td>😩</td>\n",
       "      <td>2</td>\n",
       "    </tr>\n",
       "  </tbody>\n",
       "</table>\n",
       "</div>"
      ],
      "text/plain": [
       "    0     1\n",
       "0   😂  1479\n",
       "1   🤣   143\n",
       "2   🥲   106\n",
       "3   👍    53\n",
       "4   🥳    34\n",
       "5   🎉    34\n",
       "6   😅    30\n",
       "7   🙂    27\n",
       "8   🛐    23\n",
       "9   🥺    21\n",
       "10  🐦    17\n",
       "11  🎂    16\n",
       "12  😆    13\n",
       "13  🌝    13\n",
       "14  🔥    13\n",
       "15  😭    12\n",
       "16  💫    12\n",
       "17  🍾    10\n",
       "18  ✨    10\n",
       "19  😌     9\n",
       "20  🤧     9\n",
       "21  💯     7\n",
       "22  🙃     7\n",
       "23  👇     7\n",
       "24  🌟     7\n",
       "25  🙄     6\n",
       "26  😊     6\n",
       "27  👀     6\n",
       "28  🤡     6\n",
       "29  🎊     6\n",
       "30  😬     5\n",
       "31  🥱     5\n",
       "32  🤪     4\n",
       "33  😴     4\n",
       "34  👉     4\n",
       "35  😢     4\n",
       "36  😇     4\n",
       "37  😶     3\n",
       "38  🤨     3\n",
       "39  😳     3\n",
       "40  😱     3\n",
       "41  😏     3\n",
       "42  😀     3\n",
       "43  🤔     3\n",
       "44  😔     3\n",
       "45  😖     3\n",
       "46  🗿     3\n",
       "47  😵     2\n",
       "48  👆     2\n",
       "49  😩     2"
      ]
     },
     "execution_count": 142,
     "metadata": {},
     "output_type": "execute_result"
    }
   ],
   "source": [
    "pd.DataFrame(Counter(emojis).most_common(50))"
   ]
  },
  {
   "cell_type": "code",
   "execution_count": 113,
   "id": "078e0afc-d13b-45ec-b3c2-823d0d31e697",
   "metadata": {},
   "outputs": [],
   "source": [
    "date_num=[]\n",
    "# count=0\n",
    "for x in df['date']:\n",
    "    x=x.split('/')\n",
    "    # print(x[1])\n",
    "    # count+=1\n",
    "    date_num.append(x[1])\n",
    "# print(count)"
   ]
  },
  {
   "cell_type": "code",
   "execution_count": 114,
   "id": "c04a5f1f-0849-4e1a-a096-64c77e9a4b41",
   "metadata": {},
   "outputs": [],
   "source": [
    "df['month_num']=date_num"
   ]
  },
  {
   "cell_type": "code",
   "execution_count": 115,
   "id": "c05e3af3-c02f-4931-b432-65d6b9899bc0",
   "metadata": {},
   "outputs": [],
   "source": [
    "timeline=df.groupby(['year','month_num','month']).count()['message'].reset_index()"
   ]
  },
  {
   "cell_type": "code",
   "execution_count": 116,
   "id": "d77937b6-5770-4abe-80eb-cd8d4e123e3a",
   "metadata": {},
   "outputs": [],
   "source": [
    "time=[]\n",
    "for i in range(timeline.shape[0]):\n",
    "    time.append(timeline['month'][i] + '-'+str(timeline['year'][i]))"
   ]
  },
  {
   "cell_type": "code",
   "execution_count": 120,
   "id": "8a738232-0f6b-4b57-8ae1-67cf9eb732d1",
   "metadata": {},
   "outputs": [],
   "source": [
    "timeline['time']=time"
   ]
  },
  {
   "cell_type": "code",
   "execution_count": 123,
   "id": "7545ae67-8210-4cfe-8e15-95ba9fd1e53a",
   "metadata": {},
   "outputs": [
    {
     "data": {
      "text/html": [
       "<div>\n",
       "<style scoped>\n",
       "    .dataframe tbody tr th:only-of-type {\n",
       "        vertical-align: middle;\n",
       "    }\n",
       "\n",
       "    .dataframe tbody tr th {\n",
       "        vertical-align: top;\n",
       "    }\n",
       "\n",
       "    .dataframe thead th {\n",
       "        text-align: right;\n",
       "    }\n",
       "</style>\n",
       "<table border=\"1\" class=\"dataframe\">\n",
       "  <thead>\n",
       "    <tr style=\"text-align: right;\">\n",
       "      <th></th>\n",
       "      <th>year</th>\n",
       "      <th>month_num</th>\n",
       "      <th>month</th>\n",
       "      <th>message</th>\n",
       "      <th>time</th>\n",
       "    </tr>\n",
       "  </thead>\n",
       "  <tbody>\n",
       "    <tr>\n",
       "      <th>0</th>\n",
       "      <td>22</td>\n",
       "      <td>1</td>\n",
       "      <td>April</td>\n",
       "      <td>21</td>\n",
       "      <td>April-22</td>\n",
       "    </tr>\n",
       "    <tr>\n",
       "      <th>1</th>\n",
       "      <td>22</td>\n",
       "      <td>1</td>\n",
       "      <td>August</td>\n",
       "      <td>7</td>\n",
       "      <td>August-22</td>\n",
       "    </tr>\n",
       "    <tr>\n",
       "      <th>2</th>\n",
       "      <td>22</td>\n",
       "      <td>1</td>\n",
       "      <td>June</td>\n",
       "      <td>64</td>\n",
       "      <td>June-22</td>\n",
       "    </tr>\n",
       "    <tr>\n",
       "      <th>3</th>\n",
       "      <td>22</td>\n",
       "      <td>1</td>\n",
       "      <td>May</td>\n",
       "      <td>5</td>\n",
       "      <td>May-22</td>\n",
       "    </tr>\n",
       "    <tr>\n",
       "      <th>4</th>\n",
       "      <td>22</td>\n",
       "      <td>10</td>\n",
       "      <td>April</td>\n",
       "      <td>9</td>\n",
       "      <td>April-22</td>\n",
       "    </tr>\n",
       "    <tr>\n",
       "      <th>...</th>\n",
       "      <td>...</td>\n",
       "      <td>...</td>\n",
       "      <td>...</td>\n",
       "      <td>...</td>\n",
       "      <td>...</td>\n",
       "    </tr>\n",
       "    <tr>\n",
       "      <th>134</th>\n",
       "      <td>22</td>\n",
       "      <td>9</td>\n",
       "      <td>February</td>\n",
       "      <td>59</td>\n",
       "      <td>February-22</td>\n",
       "    </tr>\n",
       "    <tr>\n",
       "      <th>135</th>\n",
       "      <td>22</td>\n",
       "      <td>9</td>\n",
       "      <td>July</td>\n",
       "      <td>2</td>\n",
       "      <td>July-22</td>\n",
       "    </tr>\n",
       "    <tr>\n",
       "      <th>136</th>\n",
       "      <td>22</td>\n",
       "      <td>9</td>\n",
       "      <td>June</td>\n",
       "      <td>37</td>\n",
       "      <td>June-22</td>\n",
       "    </tr>\n",
       "    <tr>\n",
       "      <th>137</th>\n",
       "      <td>22</td>\n",
       "      <td>9</td>\n",
       "      <td>March</td>\n",
       "      <td>99</td>\n",
       "      <td>March-22</td>\n",
       "    </tr>\n",
       "    <tr>\n",
       "      <th>138</th>\n",
       "      <td>22</td>\n",
       "      <td>9</td>\n",
       "      <td>May</td>\n",
       "      <td>41</td>\n",
       "      <td>May-22</td>\n",
       "    </tr>\n",
       "  </tbody>\n",
       "</table>\n",
       "<p>139 rows × 5 columns</p>\n",
       "</div>"
      ],
      "text/plain": [
       "    year month_num     month  message         time\n",
       "0     22         1     April       21     April-22\n",
       "1     22         1    August        7    August-22\n",
       "2     22         1      June       64      June-22\n",
       "3     22         1       May        5       May-22\n",
       "4     22        10     April        9     April-22\n",
       "..   ...       ...       ...      ...          ...\n",
       "134   22         9  February       59  February-22\n",
       "135   22         9      July        2      July-22\n",
       "136   22         9      June       37      June-22\n",
       "137   22         9     March       99     March-22\n",
       "138   22         9       May       41       May-22\n",
       "\n",
       "[139 rows x 5 columns]"
      ]
     },
     "execution_count": 123,
     "metadata": {},
     "output_type": "execute_result"
    }
   ],
   "source": [
    "timeline"
   ]
  },
  {
   "cell_type": "code",
   "execution_count": 153,
   "id": "7b3f51b0-de2d-4f61-8a91-0f09bd406e20",
   "metadata": {},
   "outputs": [
    {
     "data": {
      "image/png": "[encoded data removed]",
      "text/plain": [
       "<Figure size 432x288 with 1 Axes>"
      ]
     },
     "metadata": {
      "needs_background": "light"
     },
     "output_type": "display_data"
    }
   ],
   "source": [
    "plt.bar(timeline['time'],timeline['message'])\n",
    "plt.xticks(rotation='vertical')\n",
    "plt.show()"
   ]
  },
  {
   "cell_type": "code",
   "execution_count": 147,
   "id": "7f1bcc45-2e96-41ea-9a99-b7d0128e208c",
   "metadata": {},
   "outputs": [],
   "source": [
    "daily_timeline=df.groupby('day').count()['message'].reset_index()"
   ]
  },
  {
   "cell_type": "code",
   "execution_count": 151,
   "id": "9f77dcb5-e306-479f-ac91-c8b9485c484e",
   "metadata": {},
   "outputs": [
    {
     "data": {
      "image/png": "[encoded data removed]",
      "text/plain": [
       "<Figure size 432x288 with 1 Axes>"
      ]
     },
     "metadata": {
      "needs_background": "light"
     },
     "output_type": "display_data"
    }
   ],
   "source": [
    "plt.plot(daily_timeline['day'],daily_timeline['message'])\n",
    "plt.xticks(rotation='vertical')\n",
    "plt.show()"
   ]
  },
  {
   "cell_type": "code",
   "execution_count": null,
   "id": "38ae4b0f-77c2-41bb-b46d-74588b6bbd43",
   "metadata": {},
   "outputs": [],
   "source": []
  }
 ],
 "metadata": {
  "kernelspec": {
   "display_name": "Python 3 (ipykernel)",
   "language": "python",
   "name": "python3"
  },
  "language_info": {
   "codemirror_mode": {
    "name": "ipython",
    "version": 3
   },
   "file_extension": ".py",
   "mimetype": "text/x-python",
   "name": "python",
   "nbconvert_exporter": "python",
   "pygments_lexer": "ipython3",
   "version": "3.9.12"
  }
 },
 "nbformat": 4,
 "nbformat_minor": 5
}
